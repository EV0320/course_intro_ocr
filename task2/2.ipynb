{
 "cells": [
  {
   "cell_type": "code",
   "execution_count": 1,
   "metadata": {},
   "outputs": [
    {
     "name": "stdout",
     "output_type": "stream",
     "text": [
      "/home/silevichar/liza/course_intro_ocr/task2\n"
     ]
    }
   ],
   "source": [
    "cd course_intro_ocr/task2"
   ]
  },
  {
   "cell_type": "code",
   "execution_count": 2,
   "metadata": {},
   "outputs": [],
   "source": [
    "from data_reader import Vocabulary, HWDBDatasetHelper, LMDBReader\n",
    "import cv2\n",
    "import numpy as np\n",
    "from IPython.display import clear_output, Image\n",
    "\n",
    "import torch\n",
    "from pathlib import Path\n",
    "from torch import nn\n",
    "from torch.utils.data import Dataset, DataLoader\n",
    "from torchvision import models\n",
    "\n",
    "from tqdm import tqdm"
   ]
  },
  {
   "cell_type": "code",
   "execution_count": 3,
   "metadata": {},
   "outputs": [],
   "source": [
    "class CustomDataset(Dataset):\n",
    "    def __init__(self, dataset_helper):\n",
    "        self.dataset_helper = dataset_helper\n",
    "\n",
    "    def __len__(self):\n",
    "        return self.dataset_helper.size()\n",
    "\n",
    "    def __getitem__(self, index):\n",
    "        image, label = self.dataset_helper.get_item(index)\n",
    "        image = cv2.resize(image, (128, 128))\n",
    "        image = (image - 127.5) / 255.0\n",
    "        return image, label\n",
    "    \n",
    "\n",
    "train_data_path = 'train.lmdb'\n",
    "test_data_path = 'test.lmdb'\n",
    "ground_truth_path = 'gt.txt'\n",
    "\n",
    "train_reader = LMDBReader(train_data_path)\n",
    "train_reader.open()\n",
    "train_dataset_helper = HWDBDatasetHelper(train_reader)\n",
    "\n",
    "train_dataset_helper, val_dataset_helper = train_dataset_helper.train_val_split()\n",
    "num_classes = train_dataset_helper.vocabulary.num_classes()\n",
    "\n",
    "train_dataset = CustomDataset(train_dataset_helper)\n",
    "val_dataset = CustomDataset(val_dataset_helper)\n",
    "\n",
    "train_loader = DataLoader(train_dataset, batch_size=512, shuffle=True, drop_last=True, num_workers=8)\n",
    "val_loader = DataLoader(val_dataset, batch_size=512, shuffle=False, num_workers=8)"
   ]
  },
  {
   "cell_type": "code",
   "execution_count": 4,
   "metadata": {},
   "outputs": [],
   "source": [
    "gpu_index = 2\n",
    "device = torch.device(f'cuda:{gpu_index}')\n",
    "\n",
    "class CenterLoss(nn.Module):\n",
    "    def __init__(self, num_classes=num_classes, feat_dim=512):\n",
    "        super(CenterLoss, self).__init__()\n",
    "        self.num_classes = num_classes\n",
    "        self.feat_dim = feat_dim\n",
    "        self.centers = nn.Parameter(torch.randn(self.num_classes, self.feat_dim).to(device))\n",
    "\n",
    "    def forward(self, x, labels):\n",
    "        batch_size = x.size(0)\n",
    "        dist_mat = torch.pow(x, 2).sum(dim=1, keepdim=True).expand(batch_size, self.num_classes) + \\\n",
    "                   torch.pow(self.centers, 2).sum(dim=1, keepdim=True).expand(self.num_classes, batch_size).t()\n",
    "        dist_mat.addmm_(1, -2, x, self.centers.t())\n",
    "        labels_expand = labels.unsqueeze(1).expand(batch_size, self.num_classes)\n",
    "        mask = labels_expand.eq(torch.arange(self.num_classes).long().to(device).expand(batch_size, self.num_classes))\n",
    "        dist = dist_mat * mask.float()\n",
    "        loss = dist.clamp(min=1e-12, max=1e+12).sum() / batch_size\n",
    "        return loss\n",
    "\n",
    "class ResNetWithCenterLoss(nn.Module):\n",
    "    def __init__(self, num_classes):\n",
    "        super(ResNetWithCenterLoss, self).__init__()\n",
    "        self.network = models.resnet18()\n",
    "        self.network.conv1 = nn.Conv2d(1, 64, kernel_size=(7, 7), stride=(2, 2), padding=(3, 3), bias=False)\n",
    "        num_features = self.network.fc.in_features\n",
    "        self.network.fc = nn.Identity()\n",
    "        self.head = nn.Linear(num_features, num_classes)\n",
    "\n",
    "    def forward(self, images):\n",
    "        features = self.network(images)\n",
    "        output = self.head(features)\n",
    "        return features, output\n"
   ]
  },
  {
   "cell_type": "code",
   "execution_count": 5,
   "metadata": {},
   "outputs": [
    {
     "name": "stdout",
     "output_type": "stream",
     "text": [
      "Epoch 35:\n"
     ]
    },
    {
     "name": "stderr",
     "output_type": "stream",
     "text": [
      "  0%|          | 0/5036 [00:00<?, ?it/s]/tmp/ipykernel_3052040/269468464.py:15: UserWarning: This overload of addmm_ is deprecated:\n",
      "\taddmm_(Number beta, Number alpha, Tensor mat1, Tensor mat2)\n",
      "Consider using one of the following signatures instead:\n",
      "\taddmm_(Tensor mat1, Tensor mat2, *, Number beta, Number alpha) (Triggered internally at ../torch/csrc/utils/python_arg_parser.cpp:1630.)\n",
      "  dist_mat.addmm_(1, -2, x, self.centers.t())\n",
      "100%|██████████| 5036/5036 [16:20<00:00,  5.14it/s]\n",
      "100%|██████████| 1260/1260 [01:46<00:00, 11.85it/s]\n"
     ]
    },
    {
     "name": "stdout",
     "output_type": "stream",
     "text": [
      "Epoch 35:\n",
      "Accuracy: 0.9433423982600305\n",
      "Epoch 36:\n"
     ]
    },
    {
     "name": "stderr",
     "output_type": "stream",
     "text": [
      "100%|██████████| 5036/5036 [16:06<00:00,  5.21it/s]\n",
      "100%|██████████| 1260/1260 [01:44<00:00, 12.09it/s]\n"
     ]
    },
    {
     "name": "stdout",
     "output_type": "stream",
     "text": [
      "Epoch 36:\n",
      "Accuracy: 0.947810222941349\n",
      "Epoch 37:\n"
     ]
    },
    {
     "name": "stderr",
     "output_type": "stream",
     "text": [
      "100%|██████████| 5036/5036 [16:16<00:00,  5.16it/s]\n",
      "100%|██████████| 1260/1260 [01:43<00:00, 12.14it/s]\n"
     ]
    },
    {
     "name": "stdout",
     "output_type": "stream",
     "text": [
      "Epoch 37:\n",
      "Accuracy: 0.9506336399274599\n",
      "Epoch 38:\n"
     ]
    },
    {
     "name": "stderr",
     "output_type": "stream",
     "text": [
      "100%|██████████| 5036/5036 [16:18<00:00,  5.15it/s]\n",
      "100%|██████████| 1260/1260 [01:42<00:00, 12.25it/s]\n"
     ]
    },
    {
     "name": "stdout",
     "output_type": "stream",
     "text": [
      "Epoch 38:\n",
      "Accuracy: 0.9501310096508115\n",
      "Epoch 39:\n"
     ]
    },
    {
     "name": "stderr",
     "output_type": "stream",
     "text": [
      "100%|██████████| 5036/5036 [16:18<00:00,  5.15it/s]\n",
      "100%|██████████| 1260/1260 [01:46<00:00, 11.78it/s]"
     ]
    },
    {
     "name": "stdout",
     "output_type": "stream",
     "text": [
      "Epoch 39:\n",
      "Accuracy: 0.9525712486173789\n"
     ]
    },
    {
     "name": "stderr",
     "output_type": "stream",
     "text": [
      "\n"
     ]
    }
   ],
   "source": [
    "model = ResNetWithCenterLoss(num_classes).to(device)\n",
    "\n",
    "optimizer = torch.optim.Adam(model.parameters(), lr=0.001)\n",
    "loss_function = torch.nn.CrossEntropyLoss()\n",
    "center_loss = CenterLoss()\n",
    "center_loss_optimizer = torch.optim.SGD(center_loss.parameters(), lr=0.5)\n",
    "\n",
    "accuracy_list = []\n",
    "model.load_state_dict(torch.load('resnet_epoch_34.pth'))\n",
    "model.eval()\n",
    "\n",
    "for epoch in range(35, 40):\n",
    "    print(f'Epoch {epoch}:')\n",
    "    model.train()\n",
    "    alpha = 0.5\n",
    "    for step, (images, labels) in enumerate(tqdm(train_loader)):\n",
    "        features, outputs = model(images.unsqueeze(1).float().to(device))\n",
    "\n",
    "        classification_loss = loss_function(outputs, labels.to(device))\n",
    "        center_loss_value = center_loss(features, labels.to(device))\n",
    "        total_loss = classification_loss + alpha * center_loss_value\n",
    "\n",
    "        optimizer.zero_grad()\n",
    "        center_loss_optimizer.zero_grad()\n",
    "        total_loss.backward()\n",
    "\n",
    "        for param in center_loss.parameters():\n",
    "            param.grad.data *= (1. / alpha)\n",
    "\n",
    "        optimizer.step()\n",
    "        center_loss_optimizer.step()\n",
    "    model.eval()\n",
    "    correct_predictions = 0\n",
    "    total_samples = 0\n",
    "    progress_bar = tqdm(val_loader)\n",
    "\n",
    "    with torch.no_grad():\n",
    "        for step, (images, labels) in enumerate(progress_bar):\n",
    "            _, predictions = model(images.unsqueeze(1).float().to(device))\n",
    "            predicted_classes = torch.argmax(predictions, dim=1).cpu().numpy()\n",
    "            correct_predictions += (predicted_classes == labels.cpu().numpy()).sum()\n",
    "            total_samples += labels.size(0)\n",
    "\n",
    "    accuracy = correct_predictions / total_samples\n",
    "\n",
    "    print(f'Epoch {epoch}:')\n",
    "    print(f'Accuracy: {accuracy}')\n",
    "    accuracy_list.append(accuracy)\n",
    "    torch.save(model.state_dict(), f'resnet_epoch_{epoch}.pth')\n",
    "\n",
    "torch.save(model.state_dict(), 'checkpoint2.pth')"
   ]
  },
  {
   "cell_type": "code",
   "execution_count": 6,
   "metadata": {},
   "outputs": [
    {
     "name": "stderr",
     "output_type": "stream",
     "text": [
      "100%|██████████| 1517/1517 [02:10<00:00, 11.63it/s]\n"
     ]
    },
    {
     "name": "stdout",
     "output_type": "stream",
     "text": [
      "Accuracy = 0.9262\n"
     ]
    }
   ],
   "source": [
    "predictions_file_path = 'pred.txt'\n",
    "\n",
    "test_reader = LMDBReader(test_data_path)\n",
    "test_reader.open()\n",
    "test_dataset_helper = HWDBDatasetHelper(test_reader, prefix='Test')\n",
    "\n",
    "test_dataset = CustomDataset(test_dataset_helper)\n",
    "test_loader = DataLoader(test_dataset, batch_size=512, shuffle=False, num_workers=8)\n",
    "\n",
    "predictions = []\n",
    "model.eval()\n",
    "with torch.no_grad():\n",
    "    for images, _ in tqdm(test_loader):\n",
    "        _, logits = model(images.unsqueeze(1).float().to(device))\n",
    "        predicted_classes = torch.argmax(logits, dim=1).cpu().numpy()\n",
    "        predictions.extend(predicted_classes)\n",
    "\n",
    "with open(predictions_file_path, 'w') as pred_file:\n",
    "    for index, prediction in enumerate(predictions):\n",
    "        name = test_dataset_helper.namelist[index]\n",
    "        class_name = train_dataset_helper.vocabulary.class_by_index(prediction)\n",
    "        print(name, class_name, file=pred_file)\n",
    "\n",
    "base_path = Path().absolute().parent.parent\n",
    "ground_truth = {}\n",
    "with open(ground_truth_path) as gt_file:\n",
    "    for line in gt_file:\n",
    "        filename, class_name = line.strip().split()\n",
    "        ground_truth[filename] = class_name\n",
    "\n",
    "correct_predictions = 0\n",
    "total_samples = len(ground_truth)\n",
    "\n",
    "with open(predictions_file_path) as pred_file:\n",
    "    for line in pred_file:\n",
    "        filename, predicted_class = line.strip().split()\n",
    "        if predicted_class == ground_truth.get(filename):\n",
    "            correct_predictions += 1\n",
    "\n",
    "score = correct_predictions / total_samples\n",
    "print(f'Accuracy = {score:.4f}')"
   ]
  }
 ],
 "metadata": {
  "kernelspec": {
   "display_name": "efdl",
   "language": "python",
   "name": "python3"
  },
  "language_info": {
   "codemirror_mode": {
    "name": "ipython",
    "version": 3
   },
   "file_extension": ".py",
   "mimetype": "text/x-python",
   "name": "python",
   "nbconvert_exporter": "python",
   "pygments_lexer": "ipython3",
   "version": "3.11.0"
  }
 },
 "nbformat": 4,
 "nbformat_minor": 2
}
